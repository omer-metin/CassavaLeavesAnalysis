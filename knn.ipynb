{
 "cells": [
  {
   "cell_type": "markdown",
   "id": "inappropriate-fruit",
   "metadata": {},
   "source": [
    "# Classification of Cassava Leaves"
   ]
  },
  {
   "cell_type": "markdown",
   "id": "experimental-cornwall",
   "metadata": {},
   "source": [
    "## K-Nearest Neighbors"
   ]
  },
  {
   "cell_type": "markdown",
   "id": "eligible-calendar",
   "metadata": {},
   "source": [
    "### Imports"
   ]
  },
  {
   "cell_type": "code",
   "execution_count": 1,
   "id": "capable-opening",
   "metadata": {},
   "outputs": [],
   "source": [
    "import os  # for path operations\n",
    "import pickle  # for loading created data\n",
    "import time  # calculating durations\n",
    "\n",
    "import numpy as np  # for the matrix operations\n",
    "from sklearn.neighbors import KNeighborsClassifier  # KNN classifier model"
   ]
  },
  {
   "cell_type": "markdown",
   "id": "changing-polish",
   "metadata": {},
   "source": [
    "### Definiation of parameters"
   ]
  },
  {
   "cell_type": "code",
   "execution_count": 2,
   "id": "leading-personality",
   "metadata": {},
   "outputs": [],
   "source": [
    "weights = ['uniform', 'distance']  # point weight calculation\n",
    "neighbors = [27, 57]  # K neighbors count\n",
    "\n",
    "IMG_W, IMG_H, CHAN = 200, 200, 3  # input data parameters 200x200 pixels and 3 color channels as RGB\n",
    "\n",
    "# below path should be edit\n",
    "input_data_path = \"\" # this directory should be the output_data_path of aug_image_editing script\n",
    "output_data_path = \"\"\n",
    "\n",
    "train_data_path = os.path.join(input_data_path, f\"train_data/aug_{IMG_W}x{IMG_H}x{CHAN}\")\n",
    "test_data_path = os.path.join(input_data_path, f\"test_data/aug_{IMG_W}x{IMG_H}x{CHAN}\")"
   ]
  },
  {
   "cell_type": "markdown",
   "id": "previous-fruit",
   "metadata": {},
   "source": [
    "### Loading input data"
   ]
  },
  {
   "cell_type": "code",
   "execution_count": 3,
   "id": "facial-headquarters",
   "metadata": {},
   "outputs": [
    {
     "ename": "FileNotFoundError",
     "evalue": "[Errno 2] No such file or directory: 'train_data/aug_200x200x3\\\\train.pickle'",
     "output_type": "error",
     "traceback": [
      "\u001b[1;31m---------------------------------------------------------------------------\u001b[0m",
      "\u001b[1;31mFileNotFoundError\u001b[0m                         Traceback (most recent call last)",
      "\u001b[1;32m<ipython-input-3-0c4474301893>\u001b[0m in \u001b[0;36m<module>\u001b[1;34m\u001b[0m\n\u001b[1;32m----> 1\u001b[1;33m \u001b[1;32mwith\u001b[0m \u001b[0mopen\u001b[0m\u001b[1;33m(\u001b[0m\u001b[0mos\u001b[0m\u001b[1;33m.\u001b[0m\u001b[0mpath\u001b[0m\u001b[1;33m.\u001b[0m\u001b[0mjoin\u001b[0m\u001b[1;33m(\u001b[0m\u001b[0mtrain_data_path\u001b[0m\u001b[1;33m,\u001b[0m \u001b[1;34m\"train.pickle\"\u001b[0m\u001b[1;33m)\u001b[0m\u001b[1;33m,\u001b[0m \u001b[1;34m\"rb\"\u001b[0m\u001b[1;33m)\u001b[0m \u001b[1;32mas\u001b[0m \u001b[0mf\u001b[0m\u001b[1;33m:\u001b[0m\u001b[1;33m\u001b[0m\u001b[1;33m\u001b[0m\u001b[0m\n\u001b[0m\u001b[0;32m      2\u001b[0m     \u001b[0mX_train_raw\u001b[0m \u001b[1;33m=\u001b[0m \u001b[0mpickle\u001b[0m\u001b[1;33m.\u001b[0m\u001b[0mload\u001b[0m\u001b[1;33m(\u001b[0m\u001b[0mf\u001b[0m\u001b[1;33m)\u001b[0m  \u001b[1;31m# loading train image data\u001b[0m\u001b[1;33m\u001b[0m\u001b[1;33m\u001b[0m\u001b[0m\n\u001b[0;32m      3\u001b[0m     \u001b[0mX_train\u001b[0m \u001b[1;33m=\u001b[0m \u001b[0mX_train_raw\u001b[0m\u001b[1;33m.\u001b[0m\u001b[0mreshape\u001b[0m\u001b[1;33m(\u001b[0m\u001b[1;33m[\u001b[0m\u001b[1;33m-\u001b[0m\u001b[1;36m1\u001b[0m\u001b[1;33m,\u001b[0m \u001b[0mIMG_W\u001b[0m\u001b[1;33m*\u001b[0m\u001b[0mIMG_H\u001b[0m\u001b[1;33m*\u001b[0m\u001b[0mCHAN\u001b[0m\u001b[1;33m]\u001b[0m\u001b[1;33m)\u001b[0m  \u001b[1;31m# flattening image data to use as dimensions\u001b[0m\u001b[1;33m\u001b[0m\u001b[1;33m\u001b[0m\u001b[0m\n\u001b[0;32m      4\u001b[0m \u001b[1;32mwith\u001b[0m \u001b[0mopen\u001b[0m\u001b[1;33m(\u001b[0m\u001b[0mos\u001b[0m\u001b[1;33m.\u001b[0m\u001b[0mpath\u001b[0m\u001b[1;33m.\u001b[0m\u001b[0mjoin\u001b[0m\u001b[1;33m(\u001b[0m\u001b[0mtrain_data_path\u001b[0m\u001b[1;33m,\u001b[0m \u001b[1;34m\"label.pickle\"\u001b[0m\u001b[1;33m)\u001b[0m\u001b[1;33m,\u001b[0m \u001b[1;34m\"rb\"\u001b[0m\u001b[1;33m)\u001b[0m \u001b[1;32mas\u001b[0m \u001b[0mf\u001b[0m\u001b[1;33m:\u001b[0m\u001b[1;33m\u001b[0m\u001b[1;33m\u001b[0m\u001b[0m\n\u001b[0;32m      5\u001b[0m     \u001b[0my_train\u001b[0m \u001b[1;33m=\u001b[0m \u001b[0mpickle\u001b[0m\u001b[1;33m.\u001b[0m\u001b[0mload\u001b[0m\u001b[1;33m(\u001b[0m\u001b[0mf\u001b[0m\u001b[1;33m)\u001b[0m  \u001b[1;31m# loading train label data\u001b[0m\u001b[1;33m\u001b[0m\u001b[1;33m\u001b[0m\u001b[0m\n",
      "\u001b[1;31mFileNotFoundError\u001b[0m: [Errno 2] No such file or directory: 'train_data/aug_200x200x3\\\\train.pickle'"
     ]
    }
   ],
   "source": [
    "with open(os.path.join(train_data_path, \"train.pickle\"), \"rb\") as f:\n",
    "    X_train_raw = pickle.load(f)  # loading train image data\n",
    "    X_train = X_train_raw.reshape([-1, IMG_W*IMG_H*CHAN])  # flattening image data to use as dimensions\n",
    "with open(os.path.join(train_data_path, \"label.pickle\"), \"rb\") as f:\n",
    "    y_train = pickle.load(f)  # loading train label data\n",
    "\n",
    "print(f\"train data: {X_train.shape}, {y_train.shape}\")"
   ]
  },
  {
   "cell_type": "markdown",
   "id": "dynamic-petroleum",
   "metadata": {},
   "source": [
    "### Loading output"
   ]
  },
  {
   "cell_type": "code",
   "execution_count": null,
   "id": "seasonal-convergence",
   "metadata": {},
   "outputs": [],
   "source": [
    "with open(os.path.join(test_data_path, \"test.pickle\"), \"rb\") as f:\n",
    "    X_test_raw = pickle.load(f)  # loading test image data\n",
    "    X_test = X_test_raw.reshape([-1, IMG_W*IMG_H*CHAN])  # flattening image data to use as dimensions\n",
    "with open(os.path.join(test_data_path, \"label.pickle\"), \"rb\") as f:\n",
    "    y_test = pickle.load(f)  # loading test label data\n",
    "    \n",
    "print(f\"test data: {X_test.shape}, {y_test.shape}\")"
   ]
  },
  {
   "cell_type": "markdown",
   "id": "billion-parallel",
   "metadata": {},
   "source": [
    "### Calculating class weights"
   ]
  },
  {
   "cell_type": "code",
   "execution_count": null,
   "id": "industrial-guitar",
   "metadata": {},
   "outputs": [],
   "source": [
    "class_weights = {}\n",
    "for i in range(5):\n",
    "    class_weights[i] = len(y_train) / np.count_nonzero(y_train == i)\n",
    "print(class_weights)"
   ]
  },
  {
   "cell_type": "markdown",
   "id": "catholic-observer",
   "metadata": {},
   "source": [
    "### Iterative model fitting"
   ]
  },
  {
   "cell_type": "code",
   "execution_count": null,
   "id": "velvet-reception",
   "metadata": {},
   "outputs": [],
   "source": [
    "for weight in weights:\n",
    "    for n in neighbors:\n",
    "        model = KNeighborsClassifier(n_neighbors=n, weights=weight, n_jobs=-1)  # classifier\n",
    "\n",
    "        # Training\n",
    "        train_t0 = time.time()\n",
    "        print(\"Training starts\")\n",
    "        model.fit(X_train, y_train)  # Fitting\n",
    "        train_t = time.time() - train_t0\n",
    "\n",
    "        # Testing\n",
    "        print(\"Testing Starts\")\n",
    "        test_t0 = time.time()\n",
    "        predictions = model.predict(X_test) \n",
    "        results = np.array([np.argmax(prediction)\n",
    "                            for prediction in predictions])  # find predictions with one-high detection\n",
    "        test_t = time.time() - test_t0\n",
    "        \n",
    "        acc = np.count_nonzero(results == y_test) / len(y_test)  # count and calculate true predictions\n",
    "        with open(f\"accuracies_knn_{IMG_W}x{IMG_H}x{CHAN}_{weight}_{n}.out\", \"w\") as f:\n",
    "            f.write(f\"{weight},{n},{acc},{train_t},{test_t}\\n\")  # save accuracy results\n",
    "            f.flush()\n",
    "        print(f\"{weight},{n},{acc},{train_t},{test_t}\")"
   ]
  }
 ],
 "metadata": {
  "kernelspec": {
   "display_name": "Python 3",
   "language": "python",
   "name": "python3"
  },
  "language_info": {
   "codemirror_mode": {
    "name": "ipython",
    "version": 3
   },
   "file_extension": ".py",
   "mimetype": "text/x-python",
   "name": "python",
   "nbconvert_exporter": "python",
   "pygments_lexer": "ipython3",
   "version": "3.7.9"
  }
 },
 "nbformat": 4,
 "nbformat_minor": 5
}
