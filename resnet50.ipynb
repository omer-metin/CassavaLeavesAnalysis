{
 "cells": [
  {
   "cell_type": "markdown",
   "id": "inappropriate-fruit",
   "metadata": {},
   "source": [
    "# Classification of Cassava Leaves"
   ]
  },
  {
   "cell_type": "markdown",
   "id": "experimental-cornwall",
   "metadata": {},
   "source": [
    "## Resnet50 Architecture"
   ]
  },
  {
   "cell_type": "markdown",
   "id": "eligible-calendar",
   "metadata": {},
   "source": [
    "### Imports"
   ]
  },
  {
   "cell_type": "code",
   "execution_count": 3,
   "id": "capable-opening",
   "metadata": {},
   "outputs": [],
   "source": [
    "import os  # for path operations\n",
    "import pickle  # for loading created data\n",
    "import time  # calculating durations\n",
    "\n",
    "import numpy as np  # for the matrix operations\n",
    "from tensorflow.keras.applications import ResNet50  # Resnet50 layer architecture\n",
    "from tensorflow.keras.layers import Input  # input layer that feeds main architecture\n",
    "from tensorflow.keras.losses import SparseCategoricalCrossentropy  # loss function\n",
    "from tensorflow.keras.optimizers import Adam  # used optimizer"
   ]
  },
  {
   "cell_type": "markdown",
   "id": "changing-polish",
   "metadata": {},
   "source": [
    "### Definiation of parameters"
   ]
  },
  {
   "cell_type": "code",
   "execution_count": 4,
   "id": "leading-personality",
   "metadata": {},
   "outputs": [],
   "source": [
    "learning_rate = 0.01  # model learning rate\n",
    "# learning_rates = 0.1  # other learning rate\n",
    "\n",
    "val_split = 0.2  # validation data split for model\n",
    "\n",
    "IMG_W, IMG_H, CHAN = 200, 200, 3  # input data parameters 200x200 pixels and 3 color channels as RGB\n",
    "\n",
    "# below path should be edit\n",
    "input_data_path = \"\"  # this directory should be the output_data_path of aug_image_editing script\n",
    "output_data_path = \"\"\n",
    "\n",
    "train_data_path = os.path.join(input_data_path, f\"train_data/aug_{IMG_W}x{IMG_H}x{CHAN}\")\n",
    "test_data_path = os.path.join(input_data_path, f\"test_data/aug_{IMG_W}x{IMG_H}x{CHAN}\")"
   ]
  },
  {
   "cell_type": "markdown",
   "id": "previous-fruit",
   "metadata": {},
   "source": [
    "### Loading input data"
   ]
  },
  {
   "cell_type": "code",
   "execution_count": null,
   "id": "facial-headquarters",
   "metadata": {},
   "outputs": [],
   "source": [
    "with open(os.path.join(train_data_path, \"train.pickle\"), \"rb\") as f:\n",
    "    X_train = pickle.load(f)  # loading train image data\n",
    "with open(os.path.join(train_data_path, \"label.pickle\"), \"rb\") as f:\n",
    "    y_train = pickle.load(f)  # loading train label data\n",
    "\n",
    "print(f\"train data: {X_train.shape}, {y_train.shape}\")"
   ]
  },
  {
   "cell_type": "markdown",
   "id": "dynamic-petroleum",
   "metadata": {},
   "source": [
    "### Loading output"
   ]
  },
  {
   "cell_type": "code",
   "execution_count": null,
   "id": "seasonal-convergence",
   "metadata": {},
   "outputs": [],
   "source": [
    "with open(os.path.join(test_data_path, \"test.pickle\"), \"rb\") as f:\n",
    "    X_test = pickle.load(f)  # loading test image data\n",
    "with open(os.path.join(test_data_path, \"label.pickle\"), \"rb\") as f:\n",
    "    y_test = pickle.load(f)  # loading test label data\n",
    "    \n",
    "print(f\"test data: {X_test.shape}, {y_test.shape}\")"
   ]
  },
  {
   "cell_type": "markdown",
   "id": "billion-parallel",
   "metadata": {},
   "source": [
    "### Calculating class weights"
   ]
  },
  {
   "cell_type": "code",
   "execution_count": null,
   "id": "industrial-guitar",
   "metadata": {},
   "outputs": [],
   "source": [
    "class_weights = {}\n",
    "for i in range(5):\n",
    "    class_weights[i] = len(y_train) / np.count_nonzero(y_train == i)\n",
    "print(class_weights)"
   ]
  },
  {
   "cell_type": "markdown",
   "id": "catholic-observer",
   "metadata": {},
   "source": [
    "### Creation of resnet50 model"
   ]
  },
  {
   "cell_type": "code",
   "execution_count": null,
   "id": "velvet-reception",
   "metadata": {},
   "outputs": [],
   "source": [
    "input_tensor = Input(shape=(IMG_W, IMG_H, CHAN), dtype='float64')  # input layer\n",
    "model = ResNet50(weights=None, classes=5, input_tensor=input_tensor)  # resnet50 architecture\n",
    "\n",
    "model.compile(optimizer=Adam(learning_rate=learning_rate),\n",
    "              loss=SparseCategoricalCrossentropy(),\n",
    "              metrics=['accuracy'])"
   ]
  },
  {
   "cell_type": "markdown",
   "id": "inside-chester",
   "metadata": {},
   "source": [
    "### Model training section "
   ]
  },
  {
   "cell_type": "code",
   "execution_count": null,
   "id": "recorded-birmingham",
   "metadata": {},
   "outputs": [],
   "source": [
    "traing_t0 = time.time()\n",
    "model.fit(X_train, y_train,\n",
    "          epochs=10, \n",
    "          batch_size=128,\n",
    "          validation_split=val_split,\n",
    "          class_weight=class_weights)\n",
    "train_t = time.time() - traing_t0\n",
    "model.save(os.path.join(output_data_path, \"resnet50_01.model\"))  # save trained model\n",
    "print(f\"trained model saved as: {os.path.join(output_data_path, 'resnet50_01.model')}\")"
   ]
  },
  {
   "cell_type": "markdown",
   "id": "respective-preview",
   "metadata": {},
   "source": [
    "### Model testing section"
   ]
  },
  {
   "cell_type": "code",
   "execution_count": null,
   "id": "median-marketplace",
   "metadata": {},
   "outputs": [],
   "source": [
    "test_t0 = time.time()\n",
    "predictions = model.predict(X_test, use_multiprocessing=True)  # predict testing images\n",
    "results = np.array([np.argmax(prediction)\n",
    "                    for prediction in predictions])  # process predictions by one high\n",
    "test_t = time.time() - test_t0\n",
    "acc = np.count_nonzero(results == y_test) / len(y_test)  # count number of true predicts and calculate accuracy\n",
    "\n",
    "print(f\"accuracy: {acc}, traing_t: {train_t}, test_t: {test_t}\")\n",
    "with open(f\"accuracies_resnet50_{IMG_W}x{IMG_H}x{CHAN}_01.out\", \"w\") as f:\n",
    "    f.write(f\"accuracy: {acc}, traing_t: {train_t}, test_t: {test_t}\\n\")  # save accuracies\n",
    "    f.flush()"
   ]
  },
  {
   "cell_type": "code",
   "execution_count": null,
   "id": "moral-enlargement",
   "metadata": {},
   "outputs": [],
   "source": []
  }
 ],
 "metadata": {
  "kernelspec": {
   "display_name": "Python 3",
   "language": "python",
   "name": "python3"
  },
  "language_info": {
   "codemirror_mode": {
    "name": "ipython",
    "version": 3
   },
   "file_extension": ".py",
   "mimetype": "text/x-python",
   "name": "python",
   "nbconvert_exporter": "python",
   "pygments_lexer": "ipython3",
   "version": "3.7.9"
  }
 },
 "nbformat": 4,
 "nbformat_minor": 5
}
